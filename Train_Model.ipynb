{
 "cells": [
  {
   "cell_type": "code",
   "execution_count": 1,
   "metadata": {},
   "outputs": [],
   "source": [
    "import numpy as np\n",
    "import pandas as pd\n",
    "import pickle \n",
    "from os import path\n",
    "from sklearn import preprocessing\n",
    "from sklearn.svm import SVC\n",
    "from sklearn.neighbors import KNeighborsClassifier\n",
    "from sklearn.ensemble import RandomForestClassifier, AdaBoostClassifier\n",
    "from sklearn.metrics import classification_report, confusion_matrix, accuracy_score, f1_score, precision_score, recall_score"
   ]
  },
  {
   "cell_type": "code",
   "execution_count": 2,
   "metadata": {},
   "outputs": [
    {
     "data": {
      "text/plain": [
       "((22544, 99), (125973, 99))"
      ]
     },
     "execution_count": 2,
     "metadata": {},
     "output_type": "execute_result"
    }
   ],
   "source": [
    "data_train = pd.read_csv('DataProcessed/train.csv')\n",
    "data_train.drop(data_train.columns[0], axis=1, inplace=True)\n",
    "data_test = pd.read_csv('DataProcessed/test.csv')\n",
    "data_test.drop(data_test.columns[0], axis=1, inplace=True)\n",
    "data_test.shape, data_train.shape"
   ]
  },
  {
   "cell_type": "code",
   "execution_count": 3,
   "metadata": {},
   "outputs": [],
   "source": [
    "label_train = np.load('DataProcessed/le_train.npy', allow_pickle=True)\n",
    "label_train\n",
    "label_test = np.load('DataProcessed/le_test.npy', allow_pickle=True)\n",
    "    "
   ]
  },
  {
   "cell_type": "code",
   "execution_count": 9,
   "metadata": {},
   "outputs": [],
   "source": [
    "Y_train = data_train['intrusion_type'].to_numpy()\n",
    "X_train = data_train.drop(['intrusion_type', 'class_label'], axis=1).to_numpy()\n",
    "X_test = data_test.drop(['intrusion_type', 'class_label'], axis=1).to_numpy()\n",
    "Y_test = data_test['intrusion_type'].to_numpy()"
   ]
  },
  {
   "cell_type": "code",
   "execution_count": 10,
   "metadata": {},
   "outputs": [],
   "source": [
    "model_svc = SVC(kernel='linear', gamma='auto')\n",
    "history = model_svc.fit(X_train, Y_train)"
   ]
  },
  {
   "cell_type": "code",
   "execution_count": 11,
   "metadata": {},
   "outputs": [],
   "source": [
    "y_pred = model_svc.predict(X_test)"
   ]
  },
  {
   "cell_type": "code",
   "execution_count": 15,
   "metadata": {},
   "outputs": [
    {
     "name": "stdout",
     "output_type": "stream",
     "text": [
      "              precision    recall  f1-score   support\n",
      "\n",
      "           0       1.00      1.00      1.00      7460\n",
      "           1       1.00      1.00      1.00      2421\n",
      "           2       1.00      1.00      1.00      2885\n",
      "           3       1.00      1.00      1.00        67\n",
      "           4       1.00      1.00      1.00      9711\n",
      "\n",
      "    accuracy                           1.00     22544\n",
      "   macro avg       1.00      1.00      1.00     22544\n",
      "weighted avg       1.00      1.00      1.00     22544\n",
      "\n"
     ]
    }
   ],
   "source": [
    "print(classification_report(Y_test, y_pred))"
   ]
  },
  {
   "cell_type": "code",
   "execution_count": 17,
   "metadata": {},
   "outputs": [
    {
     "name": "stdout",
     "output_type": "stream",
     "text": [
      "              precision    recall  f1-score   support\n",
      "\n",
      "           0       0.98      0.87      0.92      7460\n",
      "           1       0.93      0.93      0.93      2421\n",
      "           2       1.00      0.77      0.87      2885\n",
      "           3       1.00      0.66      0.79        67\n",
      "           4       0.86      0.99      0.92      9711\n",
      "\n",
      "    accuracy                           0.91     22544\n",
      "   macro avg       0.95      0.84      0.89     22544\n",
      "weighted avg       0.92      0.91      0.91     22544\n",
      "\n"
     ]
    }
   ],
   "source": [
    "# using KNN\n",
    "model_knn = KNeighborsClassifier(n_neighbors=5)\n",
    "model_knn.fit(X_train, Y_train)\n",
    "y_pred = model_knn.predict(X_test)\n",
    "print(classification_report(Y_test, y_pred))"
   ]
  },
  {
   "cell_type": "code",
   "execution_count": 18,
   "metadata": {},
   "outputs": [
    {
     "name": "stdout",
     "output_type": "stream",
     "text": [
      "              precision    recall  f1-score   support\n",
      "\n",
      "           0       1.00      1.00      1.00      7460\n",
      "           1       0.99      1.00      1.00      2421\n",
      "           2       1.00      0.99      1.00      2885\n",
      "           3       1.00      1.00      1.00        67\n",
      "           4       1.00      1.00      1.00      9711\n",
      "\n",
      "    accuracy                           1.00     22544\n",
      "   macro avg       1.00      1.00      1.00     22544\n",
      "weighted avg       1.00      1.00      1.00     22544\n",
      "\n"
     ]
    }
   ],
   "source": [
    "# using Random Forest\n",
    "model_rf = RandomForestClassifier(n_estimators=100)\n",
    "model_rf.fit(X_train, Y_train)\n",
    "y_pred = model_rf.predict(X_test)\n",
    "print(classification_report(Y_test, y_pred))\n"
   ]
  },
  {
   "cell_type": "code",
   "execution_count": 19,
   "metadata": {},
   "outputs": [
    {
     "name": "stderr",
     "output_type": "stream",
     "text": [
      "d:\\Program File\\Conda_Env\\Tf_Gpu\\lib\\site-packages\\sklearn\\ensemble\\_weight_boosting.py:527: FutureWarning: The SAMME.R algorithm (the default) is deprecated and will be removed in 1.6. Use the SAMME algorithm to circumvent this warning.\n",
      "  warnings.warn(\n"
     ]
    },
    {
     "name": "stdout",
     "output_type": "stream",
     "text": [
      "              precision    recall  f1-score   support\n",
      "\n",
      "           0       1.00      1.00      1.00      7460\n",
      "           1       1.00      1.00      1.00      2421\n",
      "           2       1.00      1.00      1.00      2885\n",
      "           3       1.00      1.00      1.00        67\n",
      "           4       1.00      1.00      1.00      9711\n",
      "\n",
      "    accuracy                           1.00     22544\n",
      "   macro avg       1.00      1.00      1.00     22544\n",
      "weighted avg       1.00      1.00      1.00     22544\n",
      "\n"
     ]
    }
   ],
   "source": [
    "# using AdaBoost\n",
    "model_ab = AdaBoostClassifier(n_estimators=100)\n",
    "model_ab.fit(X_train, Y_train)\n",
    "y_pred = model_ab.predict(X_test)\n",
    "print(classification_report(Y_test, y_pred))"
   ]
  },
  {
   "cell_type": "code",
   "execution_count": 23,
   "metadata": {},
   "outputs": [
    {
     "name": "stderr",
     "output_type": "stream",
     "text": [
      "d:\\Program File\\Conda_Env\\Tf_Gpu\\lib\\site-packages\\sklearn\\ensemble\\_weight_boosting.py:527: FutureWarning: The SAMME.R algorithm (the default) is deprecated and will be removed in 1.6. Use the SAMME algorithm to circumvent this warning.\n",
      "  warnings.warn(\n"
     ]
    },
    {
     "name": "stdout",
     "output_type": "stream",
     "text": [
      "              precision    recall  f1-score   support\n",
      "\n",
      "           0       1.00      1.00      1.00      7460\n",
      "           1       0.45      1.00      0.62      2421\n",
      "           2       0.00      0.00      0.00      2885\n",
      "           3       0.00      0.00      0.00        67\n",
      "           4       1.00      1.00      1.00      9711\n",
      "\n",
      "    accuracy                           0.87     22544\n",
      "   macro avg       0.49      0.60      0.52     22544\n",
      "weighted avg       0.81      0.87      0.83     22544\n",
      "\n"
     ]
    },
    {
     "name": "stderr",
     "output_type": "stream",
     "text": [
      "d:\\Program File\\Conda_Env\\Tf_Gpu\\lib\\site-packages\\sklearn\\metrics\\_classification.py:1531: UndefinedMetricWarning: Precision is ill-defined and being set to 0.0 in labels with no predicted samples. Use `zero_division` parameter to control this behavior.\n",
      "  _warn_prf(average, modifier, f\"{metric.capitalize()} is\", len(result))\n",
      "d:\\Program File\\Conda_Env\\Tf_Gpu\\lib\\site-packages\\sklearn\\metrics\\_classification.py:1531: UndefinedMetricWarning: Precision is ill-defined and being set to 0.0 in labels with no predicted samples. Use `zero_division` parameter to control this behavior.\n",
      "  _warn_prf(average, modifier, f\"{metric.capitalize()} is\", len(result))\n",
      "d:\\Program File\\Conda_Env\\Tf_Gpu\\lib\\site-packages\\sklearn\\metrics\\_classification.py:1531: UndefinedMetricWarning: Precision is ill-defined and being set to 0.0 in labels with no predicted samples. Use `zero_division` parameter to control this behavior.\n",
      "  _warn_prf(average, modifier, f\"{metric.capitalize()} is\", len(result))\n"
     ]
    }
   ],
   "source": [
    "# n_estimators = 10\n",
    "model_ab1 = AdaBoostClassifier(n_estimators=2)\n",
    "model_ab1.fit(X_train, Y_train)\n",
    "y_pred = model_ab1.predict(X_test)\n",
    "print(classification_report(Y_test, y_pred))"
   ]
  },
  {
   "cell_type": "code",
   "execution_count": null,
   "metadata": {},
   "outputs": [],
   "source": []
  }
 ],
 "metadata": {
  "kernelspec": {
   "display_name": "Tf_Gpu",
   "language": "python",
   "name": "python3"
  },
  "language_info": {
   "codemirror_mode": {
    "name": "ipython",
    "version": 3
   },
   "file_extension": ".py",
   "mimetype": "text/x-python",
   "name": "python",
   "nbconvert_exporter": "python",
   "pygments_lexer": "ipython3",
   "version": "3.10.13"
  }
 },
 "nbformat": 4,
 "nbformat_minor": 2
}
