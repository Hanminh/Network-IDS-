{
 "cells": [
  {
   "cell_type": "code",
   "execution_count": 1,
   "metadata": {
    "executionInfo": {
     "elapsed": 23404,
     "status": "ok",
     "timestamp": 1734371328345,
     "user": {
      "displayName": "Trần Hoàng Vũ",
      "userId": "14374930616852196255"
     },
     "user_tz": -420
    },
    "id": "QSGG2qC-V17A"
   },
   "outputs": [],
   "source": [
    "import pandas as pd\n",
    "# Tập dữ liệu\n",
    "data = pd.read_csv('processed_data.csv')\n"
   ]
  },
  {
   "cell_type": "code",
   "execution_count": 2,
   "metadata": {
    "colab": {
     "base_uri": "https://localhost:8080/"
    },
    "executionInfo": {
     "elapsed": 542,
     "status": "ok",
     "timestamp": 1734371336927,
     "user": {
      "displayName": "Trần Hoàng Vũ",
      "userId": "14374930616852196255"
     },
     "user_tz": -420
    },
    "id": "EYeisP5SWFXD",
    "outputId": "c24efb89-612e-43e8-dd72-5889acce92ba"
   },
   "outputs": [
    {
     "data": {
      "text/plain": [
       "(2830743, 79)"
      ]
     },
     "execution_count": 2,
     "metadata": {},
     "output_type": "execute_result"
    }
   ],
   "source": [
    "data.shape"
   ]
  },
  {
   "cell_type": "code",
   "execution_count": 3,
   "metadata": {
    "colab": {
     "base_uri": "https://localhost:8080/"
    },
    "executionInfo": {
     "elapsed": 546,
     "status": "ok",
     "timestamp": 1734372700042,
     "user": {
      "displayName": "Trần Hoàng Vũ",
      "userId": "14374930616852196255"
     },
     "user_tz": -420
    },
    "id": "v4VYwjECqwLJ",
    "outputId": "4a0e0985-ff66-4810-c640-695cca845a7a"
   },
   "outputs": [
    {
     "data": {
      "text/plain": [
       "Index(['Destination Port', 'Flow Duration', 'Total Fwd Packets',\n",
       "       'Total Backward Packets', 'Total Length of Fwd Packets',\n",
       "       'Total Length of Bwd Packets', 'Fwd Packet Length Max',\n",
       "       'Fwd Packet Length Min', 'Fwd Packet Length Mean',\n",
       "       'Fwd Packet Length Std', 'Bwd Packet Length Max',\n",
       "       'Bwd Packet Length Min', 'Bwd Packet Length Mean',\n",
       "       'Bwd Packet Length Std', 'Flow Bytes/s', 'Flow Packets/s',\n",
       "       'Flow IAT Mean', 'Flow IAT Std', 'Flow IAT Max', 'Flow IAT Min',\n",
       "       'Fwd IAT Total', 'Fwd IAT Mean', 'Fwd IAT Std', 'Fwd IAT Max',\n",
       "       'Fwd IAT Min', 'Bwd IAT Total', 'Bwd IAT Mean', 'Bwd IAT Std',\n",
       "       'Bwd IAT Max', 'Bwd IAT Min', 'Fwd PSH Flags', 'Bwd PSH Flags',\n",
       "       'Fwd URG Flags', 'Bwd URG Flags', 'Fwd Header Length',\n",
       "       'Bwd Header Length', 'Fwd Packets/s', 'Bwd Packets/s',\n",
       "       'Min Packet Length', 'Max Packet Length', 'Packet Length Mean',\n",
       "       'Packet Length Std', 'Packet Length Variance', 'FIN Flag Count',\n",
       "       'SYN Flag Count', 'RST Flag Count', 'PSH Flag Count', 'ACK Flag Count',\n",
       "       'URG Flag Count', 'CWE Flag Count', 'ECE Flag Count', 'Down/Up Ratio',\n",
       "       'Average Packet Size', 'Avg Fwd Segment Size', 'Avg Bwd Segment Size',\n",
       "       'Fwd Header Length.1', 'Fwd Avg Bytes/Bulk', 'Fwd Avg Packets/Bulk',\n",
       "       'Fwd Avg Bulk Rate', 'Bwd Avg Bytes/Bulk', 'Bwd Avg Packets/Bulk',\n",
       "       'Bwd Avg Bulk Rate', 'Subflow Fwd Packets', 'Subflow Fwd Bytes',\n",
       "       'Subflow Bwd Packets', 'Subflow Bwd Bytes', 'Init_Win_bytes_forward',\n",
       "       'Init_Win_bytes_backward', 'act_data_pkt_fwd', 'min_seg_size_forward',\n",
       "       'Active Mean', 'Active Std', 'Active Max', 'Active Min', 'Idle Mean',\n",
       "       'Idle Std', 'Idle Max', 'Idle Min', 'Attack Number'],\n",
       "      dtype='object')"
      ]
     },
     "execution_count": 3,
     "metadata": {},
     "output_type": "execute_result"
    }
   ],
   "source": [
    "data.columns"
   ]
  },
  {
   "cell_type": "code",
   "execution_count": 4,
   "metadata": {
    "executionInfo": {
     "elapsed": 547,
     "status": "ok",
     "timestamp": 1734372593024,
     "user": {
      "displayName": "Trần Hoàng Vũ",
      "userId": "14374930616852196255"
     },
     "user_tz": -420
    },
    "id": "6U7XdJ9lloJd"
   },
   "outputs": [],
   "source": [
    "selected_features = [\n",
    "    'Fwd Packet Length Max', 'Bwd Packet Length Std', 'Bwd Packet Length Mean', 'Packet Length Mean',\n",
    "    'Flow Packets/s', 'Packet Length Std', 'Packet Length Variance', 'Max Packet Length', 'Avg Bwd Segment Size',\n",
    "    'Destination Port', 'Total Length of Fwd Packets', 'Average Packet Size', 'Init_Win_bytes_backward',\n",
    "    'Subflow Fwd Bytes', 'Subflow Bwd Bytes', 'Fwd Header Length', 'Bwd Header Length', 'Init_Win_bytes_forward',\n",
    "    'Total Length of Bwd Packets', 'PSH Flag Count', 'Fwd IAT Std', 'Fwd Packet Length Std', 'Subflow Fwd Packets',\n",
    "    'Bwd Packets/s', 'min_seg_size_forward', 'Fwd IAT Max', 'Subflow Bwd Packets', 'Flow IAT Std',\n",
    "    'Flow Bytes/s', 'Flow Packets/s', 'act_data_pkt_fwd', 'Fwd IAT Mean'\n",
    "]\n",
    "selected_data = data[selected_features]"
   ]
  },
  {
   "cell_type": "code",
   "execution_count": 5,
   "metadata": {
    "colab": {
     "base_uri": "https://localhost:8080/"
    },
    "executionInfo": {
     "elapsed": 5,
     "status": "ok",
     "timestamp": 1734372594275,
     "user": {
      "displayName": "Trần Hoàng Vũ",
      "userId": "14374930616852196255"
     },
     "user_tz": -420
    },
    "id": "PxPm9qZolss8",
    "outputId": "3116bde6-e98a-44cd-c0e0-5c2bce7ccea9"
   },
   "outputs": [
    {
     "data": {
      "text/plain": [
       "(2830743, 32)"
      ]
     },
     "execution_count": 5,
     "metadata": {},
     "output_type": "execute_result"
    }
   ],
   "source": [
    "selected_data.shape"
   ]
  },
  {
   "cell_type": "code",
   "execution_count": 6,
   "metadata": {
    "colab": {
     "base_uri": "https://localhost:8080/"
    },
    "executionInfo": {
     "elapsed": 3088,
     "status": "ok",
     "timestamp": 1734372599244,
     "user": {
      "displayName": "Trần Hoàng Vũ",
      "userId": "14374930616852196255"
     },
     "user_tz": -420
    },
    "id": "-pOdltsmlxvI",
    "outputId": "95bf7a8f-23c7-4189-d85c-6bffb7b7dbb6"
   },
   "outputs": [
    {
     "name": "stdout",
     "output_type": "stream",
     "text": [
      "Fwd Packet Length Max         -3.391135e-17\n",
      "Bwd Packet Length Std          2.629774e-16\n",
      "Bwd Packet Length Mean         1.270709e-16\n",
      "Packet Length Mean             1.758270e-16\n",
      "Flow Packets/s                -3.706905e-17\n",
      "Packet Length Std             -2.919740e-16\n",
      "Packet Length Variance         2.045826e-16\n",
      "Max Packet Length             -1.847428e-18\n",
      "Avg Bwd Segment Size           3.124563e-17\n",
      "Destination Port               1.364486e-17\n",
      "Total Length of Fwd Packets    1.694940e-18\n",
      "Average Packet Size           -9.638756e-19\n",
      "Init_Win_bytes_backward       -4.303303e-17\n",
      "Subflow Fwd Bytes              4.210681e-18\n",
      "Subflow Bwd Bytes              4.857029e-19\n",
      "Fwd Header Length             -3.790240e-19\n",
      "Bwd Header Length              4.066350e-19\n",
      "Init_Win_bytes_forward         4.971992e-17\n",
      "Total Length of Bwd Packets   -6.312883e-19\n",
      "PSH Flag Count                 1.413885e-16\n",
      "Fwd IAT Std                    3.238622e-16\n",
      "Fwd Packet Length Std          3.257096e-17\n",
      "Subflow Fwd Packets            1.700588e-18\n",
      "Bwd Packets/s                  1.224624e-16\n",
      "min_seg_size_forward          -5.943900e-17\n",
      "Fwd IAT Max                   -4.976008e-17\n",
      "Subflow Bwd Packets           -8.797875e-19\n",
      "Flow IAT Std                  -1.226532e-16\n",
      "Flow Bytes/s                  -1.481959e-17\n",
      "Flow Packets/s                -3.706905e-17\n",
      "act_data_pkt_fwd               2.039450e-18\n",
      "Fwd IAT Mean                  -2.313301e-17\n",
      "dtype: float64\n",
      "Fwd Packet Length Max          1.0\n",
      "Bwd Packet Length Std          1.0\n",
      "Bwd Packet Length Mean         1.0\n",
      "Packet Length Mean             1.0\n",
      "Flow Packets/s                 1.0\n",
      "Packet Length Std              1.0\n",
      "Packet Length Variance         1.0\n",
      "Max Packet Length              1.0\n",
      "Avg Bwd Segment Size           1.0\n",
      "Destination Port               1.0\n",
      "Total Length of Fwd Packets    1.0\n",
      "Average Packet Size            1.0\n",
      "Init_Win_bytes_backward        1.0\n",
      "Subflow Fwd Bytes              1.0\n",
      "Subflow Bwd Bytes              1.0\n",
      "Fwd Header Length              1.0\n",
      "Bwd Header Length              1.0\n",
      "Init_Win_bytes_forward         1.0\n",
      "Total Length of Bwd Packets    1.0\n",
      "PSH Flag Count                 1.0\n",
      "Fwd IAT Std                    1.0\n",
      "Fwd Packet Length Std          1.0\n",
      "Subflow Fwd Packets            1.0\n",
      "Bwd Packets/s                  1.0\n",
      "min_seg_size_forward           1.0\n",
      "Fwd IAT Max                    1.0\n",
      "Subflow Bwd Packets            1.0\n",
      "Flow IAT Std                   1.0\n",
      "Flow Bytes/s                   1.0\n",
      "Flow Packets/s                 1.0\n",
      "act_data_pkt_fwd               1.0\n",
      "Fwd IAT Mean                   1.0\n",
      "dtype: float64\n"
     ]
    }
   ],
   "source": [
    "from sklearn.preprocessing import StandardScaler\n",
    "import pandas as pd\n",
    "\n",
    "# Giả sử processed_data là DataFrame của bạn sau khi đã chọn các đặc trưng\n",
    "scaler = StandardScaler()\n",
    "\n",
    "# Chuẩn hóa dữ liệu\n",
    "processed_data_scaled = scaler.fit_transform(selected_data)\n",
    "\n",
    "# Chuyển kết quả trở lại thành DataFrame nếu cần\n",
    "processed_data_scaled = pd.DataFrame(processed_data_scaled, columns = selected_data.columns)\n",
    "\n",
    "# Kiểm tra trung bình và độ lệch chuẩn của dữ liệu sau chuẩn hóa\n",
    "print(processed_data_scaled.mean())\n",
    "print(processed_data_scaled.std())"
   ]
  },
  {
   "cell_type": "code",
   "execution_count": 7,
   "metadata": {
    "colab": {
     "base_uri": "https://localhost:8080/",
     "height": 307
    },
    "executionInfo": {
     "elapsed": 523,
     "status": "ok",
     "timestamp": 1734371590419,
     "user": {
      "displayName": "Trần Hoàng Vũ",
      "userId": "14374930616852196255"
     },
     "user_tz": -420
    },
    "id": "auU5H9CLmWXz",
    "outputId": "c9171958-4866-4f7a-973b-7b4f9e7d3a9d"
   },
   "outputs": [
    {
     "data": {
      "text/html": [
       "<div>\n",
       "<style scoped>\n",
       "    .dataframe tbody tr th:only-of-type {\n",
       "        vertical-align: middle;\n",
       "    }\n",
       "\n",
       "    .dataframe tbody tr th {\n",
       "        vertical-align: top;\n",
       "    }\n",
       "\n",
       "    .dataframe thead th {\n",
       "        text-align: right;\n",
       "    }\n",
       "</style>\n",
       "<table border=\"1\" class=\"dataframe\">\n",
       "  <thead>\n",
       "    <tr style=\"text-align: right;\">\n",
       "      <th></th>\n",
       "      <th>Fwd Packet Length Max</th>\n",
       "      <th>Bwd Packet Length Std</th>\n",
       "      <th>Bwd Packet Length Mean</th>\n",
       "      <th>Packet Length Mean</th>\n",
       "      <th>Flow Packets/s</th>\n",
       "      <th>Packet Length Std</th>\n",
       "      <th>Packet Length Variance</th>\n",
       "      <th>Max Packet Length</th>\n",
       "      <th>Avg Bwd Segment Size</th>\n",
       "      <th>Destination Port</th>\n",
       "      <th>...</th>\n",
       "      <th>Subflow Fwd Packets</th>\n",
       "      <th>Bwd Packets/s</th>\n",
       "      <th>min_seg_size_forward</th>\n",
       "      <th>Fwd IAT Max</th>\n",
       "      <th>Subflow Bwd Packets</th>\n",
       "      <th>Flow IAT Std</th>\n",
       "      <th>Flow Bytes/s</th>\n",
       "      <th>Flow Packets/s</th>\n",
       "      <th>act_data_pkt_fwd</th>\n",
       "      <th>Fwd IAT Mean</th>\n",
       "    </tr>\n",
       "  </thead>\n",
       "  <tbody>\n",
       "    <tr>\n",
       "      <th>0</th>\n",
       "      <td>-0.281099</td>\n",
       "      <td>-0.399343</td>\n",
       "      <td>-0.505487</td>\n",
       "      <td>-0.543205</td>\n",
       "      <td>1.531082</td>\n",
       "      <td>-0.466881</td>\n",
       "      <td>-0.295088</td>\n",
       "      <td>-0.465629</td>\n",
       "      <td>-0.505487</td>\n",
       "      <td>2.248816</td>\n",
       "      <td>...</td>\n",
       "      <td>-0.009819</td>\n",
       "      <td>-0.183352</td>\n",
       "      <td>-0.929701</td>\n",
       "      <td>-0.368661</td>\n",
       "      <td>-0.010421</td>\n",
       "      <td>-0.362829</td>\n",
       "      <td>0.003599</td>\n",
       "      <td>1.531082</td>\n",
       "      <td>-0.006942</td>\n",
       "      <td>-0.274015</td>\n",
       "    </tr>\n",
       "    <tr>\n",
       "      <th>1</th>\n",
       "      <td>-0.281099</td>\n",
       "      <td>-0.399343</td>\n",
       "      <td>-0.505487</td>\n",
       "      <td>-0.543205</td>\n",
       "      <td>6.928273</td>\n",
       "      <td>-0.466881</td>\n",
       "      <td>-0.295088</td>\n",
       "      <td>-0.465629</td>\n",
       "      <td>-0.505487</td>\n",
       "      <td>2.248816</td>\n",
       "      <td>...</td>\n",
       "      <td>-0.009819</td>\n",
       "      <td>-0.183352</td>\n",
       "      <td>-0.929701</td>\n",
       "      <td>-0.368661</td>\n",
       "      <td>-0.010421</td>\n",
       "      <td>-0.362829</td>\n",
       "      <td>0.158884</td>\n",
       "      <td>6.928273</td>\n",
       "      <td>-0.006942</td>\n",
       "      <td>-0.274015</td>\n",
       "    </tr>\n",
       "    <tr>\n",
       "      <th>2</th>\n",
       "      <td>-0.281099</td>\n",
       "      <td>-0.399343</td>\n",
       "      <td>-0.505487</td>\n",
       "      <td>-0.543205</td>\n",
       "      <td>6.928273</td>\n",
       "      <td>-0.466881</td>\n",
       "      <td>-0.295088</td>\n",
       "      <td>-0.465629</td>\n",
       "      <td>-0.505487</td>\n",
       "      <td>2.248816</td>\n",
       "      <td>...</td>\n",
       "      <td>-0.009819</td>\n",
       "      <td>-0.183352</td>\n",
       "      <td>-0.929701</td>\n",
       "      <td>-0.368661</td>\n",
       "      <td>-0.010421</td>\n",
       "      <td>-0.362829</td>\n",
       "      <td>0.158884</td>\n",
       "      <td>6.928273</td>\n",
       "      <td>-0.006942</td>\n",
       "      <td>-0.274015</td>\n",
       "    </tr>\n",
       "    <tr>\n",
       "      <th>3</th>\n",
       "      <td>-0.281099</td>\n",
       "      <td>-0.399343</td>\n",
       "      <td>-0.505487</td>\n",
       "      <td>-0.543205</td>\n",
       "      <td>6.928273</td>\n",
       "      <td>-0.466881</td>\n",
       "      <td>-0.295088</td>\n",
       "      <td>-0.465629</td>\n",
       "      <td>-0.505487</td>\n",
       "      <td>2.248816</td>\n",
       "      <td>...</td>\n",
       "      <td>-0.009819</td>\n",
       "      <td>-0.183352</td>\n",
       "      <td>-0.929701</td>\n",
       "      <td>-0.368661</td>\n",
       "      <td>-0.010421</td>\n",
       "      <td>-0.362829</td>\n",
       "      <td>0.158884</td>\n",
       "      <td>6.928273</td>\n",
       "      <td>-0.006942</td>\n",
       "      <td>-0.274015</td>\n",
       "    </tr>\n",
       "    <tr>\n",
       "      <th>4</th>\n",
       "      <td>-0.281099</td>\n",
       "      <td>-0.399343</td>\n",
       "      <td>-0.505487</td>\n",
       "      <td>-0.543205</td>\n",
       "      <td>2.130770</td>\n",
       "      <td>-0.466881</td>\n",
       "      <td>-0.295088</td>\n",
       "      <td>-0.465629</td>\n",
       "      <td>-0.505487</td>\n",
       "      <td>2.265115</td>\n",
       "      <td>...</td>\n",
       "      <td>-0.009819</td>\n",
       "      <td>-0.183352</td>\n",
       "      <td>-0.929701</td>\n",
       "      <td>-0.368661</td>\n",
       "      <td>-0.010421</td>\n",
       "      <td>-0.362829</td>\n",
       "      <td>0.020853</td>\n",
       "      <td>2.130770</td>\n",
       "      <td>-0.006942</td>\n",
       "      <td>-0.274015</td>\n",
       "    </tr>\n",
       "  </tbody>\n",
       "</table>\n",
       "<p>5 rows × 32 columns</p>\n",
       "</div>"
      ],
      "text/plain": [
       "   Fwd Packet Length Max  Bwd Packet Length Std  Bwd Packet Length Mean  \\\n",
       "0              -0.281099              -0.399343               -0.505487   \n",
       "1              -0.281099              -0.399343               -0.505487   \n",
       "2              -0.281099              -0.399343               -0.505487   \n",
       "3              -0.281099              -0.399343               -0.505487   \n",
       "4              -0.281099              -0.399343               -0.505487   \n",
       "\n",
       "   Packet Length Mean  Flow Packets/s  Packet Length Std  \\\n",
       "0           -0.543205        1.531082          -0.466881   \n",
       "1           -0.543205        6.928273          -0.466881   \n",
       "2           -0.543205        6.928273          -0.466881   \n",
       "3           -0.543205        6.928273          -0.466881   \n",
       "4           -0.543205        2.130770          -0.466881   \n",
       "\n",
       "   Packet Length Variance  Max Packet Length  Avg Bwd Segment Size  \\\n",
       "0               -0.295088          -0.465629             -0.505487   \n",
       "1               -0.295088          -0.465629             -0.505487   \n",
       "2               -0.295088          -0.465629             -0.505487   \n",
       "3               -0.295088          -0.465629             -0.505487   \n",
       "4               -0.295088          -0.465629             -0.505487   \n",
       "\n",
       "   Destination Port  ...  Subflow Fwd Packets  Bwd Packets/s  \\\n",
       "0          2.248816  ...            -0.009819      -0.183352   \n",
       "1          2.248816  ...            -0.009819      -0.183352   \n",
       "2          2.248816  ...            -0.009819      -0.183352   \n",
       "3          2.248816  ...            -0.009819      -0.183352   \n",
       "4          2.265115  ...            -0.009819      -0.183352   \n",
       "\n",
       "   min_seg_size_forward  Fwd IAT Max  Subflow Bwd Packets  Flow IAT Std  \\\n",
       "0             -0.929701    -0.368661            -0.010421     -0.362829   \n",
       "1             -0.929701    -0.368661            -0.010421     -0.362829   \n",
       "2             -0.929701    -0.368661            -0.010421     -0.362829   \n",
       "3             -0.929701    -0.368661            -0.010421     -0.362829   \n",
       "4             -0.929701    -0.368661            -0.010421     -0.362829   \n",
       "\n",
       "   Flow Bytes/s  Flow Packets/s  act_data_pkt_fwd  Fwd IAT Mean  \n",
       "0      0.003599        1.531082         -0.006942     -0.274015  \n",
       "1      0.158884        6.928273         -0.006942     -0.274015  \n",
       "2      0.158884        6.928273         -0.006942     -0.274015  \n",
       "3      0.158884        6.928273         -0.006942     -0.274015  \n",
       "4      0.020853        2.130770         -0.006942     -0.274015  \n",
       "\n",
       "[5 rows x 32 columns]"
      ]
     },
     "execution_count": 7,
     "metadata": {},
     "output_type": "execute_result"
    }
   ],
   "source": [
    "processed_data_scaled.head()"
   ]
  },
  {
   "cell_type": "code",
   "execution_count": 8,
   "metadata": {
    "executionInfo": {
     "elapsed": 531,
     "status": "ok",
     "timestamp": 1734372754377,
     "user": {
      "displayName": "Trần Hoàng Vũ",
      "userId": "14374930616852196255"
     },
     "user_tz": -420
    },
    "id": "QT-nW6nDos0U"
   },
   "outputs": [],
   "source": [
    "attack_number = data['Attack Number']\n",
    "\n",
    "# Thêm cột 'attack_number' vào 'processed_data_scaled'\n",
    "processed_data_scaled['Attack Number'] = attack_number"
   ]
  },
  {
   "cell_type": "code",
   "execution_count": 9,
   "metadata": {
    "colab": {
     "base_uri": "https://localhost:8080/"
    },
    "executionInfo": {
     "elapsed": 533,
     "status": "ok",
     "timestamp": 1734372779411,
     "user": {
      "displayName": "Trần Hoàng Vũ",
      "userId": "14374930616852196255"
     },
     "user_tz": -420
    },
    "id": "2l3vI5qqrBzk",
    "outputId": "42501d77-2939-4363-86e0-9fc28973b185"
   },
   "outputs": [
    {
     "data": {
      "text/plain": [
       "(2830743, 33)"
      ]
     },
     "execution_count": 9,
     "metadata": {},
     "output_type": "execute_result"
    }
   ],
   "source": [
    "processed_data_scaled.shape"
   ]
  },
  {
   "cell_type": "code",
   "execution_count": 10,
   "metadata": {
    "colab": {
     "base_uri": "https://localhost:8080/"
    },
    "executionInfo": {
     "elapsed": 2082,
     "status": "ok",
     "timestamp": 1734372849299,
     "user": {
      "displayName": "Trần Hoàng Vũ",
      "userId": "14374930616852196255"
     },
     "user_tz": -420
    },
    "id": "RBBpvoE2rHMH",
    "outputId": "139f30ea-2199-4532-ad1d-6c3fa3452c30"
   },
   "outputs": [
    {
     "name": "stdout",
     "output_type": "stream",
     "text": [
      "Train Features Shape: (2264594, 32)\n",
      "Test Features Shape: (566149, 32)\n",
      "Train Labels Shape: (2264594,)\n",
      "Test Labels Shape: (566149,)\n"
     ]
    }
   ],
   "source": [
    "from sklearn.model_selection import train_test_split\n",
    "\n",
    "# Tách các đặc trưng và nhãn\n",
    "X = processed_data_scaled.drop('Attack Number', axis=1)  # Các đặc trưng\n",
    "y = processed_data_scaled['Attack Number']  # Nhãn (cột Attack Number)\n",
    "\n",
    "# Tách dữ liệu thành 2 tập: Train và Test\n",
    "X_train, X_test, y_train, y_test = train_test_split(X, y, test_size=0.2, random_state=42)\n",
    "\n",
    "# Kiểm tra kích thước của các tập dữ liệu\n",
    "print(\"Train Features Shape:\", X_train.shape)\n",
    "print(\"Test Features Shape:\", X_test.shape)\n",
    "print(\"Train Labels Shape:\", y_train.shape)\n",
    "print(\"Test Labels Shape:\", y_test.shape)\n"
   ]
  },
  {
   "cell_type": "code",
   "execution_count": 11,
   "metadata": {
    "colab": {
     "base_uri": "https://localhost:8080/"
    },
    "executionInfo": {
     "elapsed": 3141655,
     "status": "ok",
     "timestamp": 1734381243537,
     "user": {
      "displayName": "Trần Hoàng Vũ",
      "userId": "14374930616852196255"
     },
     "user_tz": -420
    },
    "id": "BsEhqLTarsmq",
    "outputId": "100e2db5-6986-4545-d2b9-e588c8aa12b1"
   },
   "outputs": [
    {
     "name": "stdout",
     "output_type": "stream",
     "text": [
      "Accuracy: 99.60%\n",
      "\n",
      "Classification Report:\n",
      "              precision    recall  f1-score   support\n",
      "\n",
      "           0       1.00      1.00      1.00    454643\n",
      "           1       0.73      0.60      0.66       373\n",
      "           2       0.98      0.99      0.99      2761\n",
      "           3       1.00      1.00      1.00     25593\n",
      "           4       1.00      1.00      1.00     50392\n",
      "           5       1.00      1.00      1.00         3\n",
      "           6       0.67      0.29      0.40         7\n",
      "           7       0.96      0.99      0.97     31948\n",
      "           8       0.98      0.94      0.96       429\n",
      "\n",
      "    accuracy                           1.00    566149\n",
      "   macro avg       0.92      0.87      0.89    566149\n",
      "weighted avg       1.00      1.00      1.00    566149\n",
      "\n",
      "\n",
      "Confusion Matrix:\n",
      "[[453062     83     29     22     41      0      1   1398      7]\n",
      " [   150    223      0      0      0      0      0      0      0]\n",
      " [    14      0   2741      0      6      0      0      0      0]\n",
      " [    30      0      0  25557      6      0      0      0      0]\n",
      " [    35      0      8     10  50337      0      0      1      1]\n",
      " [     0      0      0      0      0      3      0      0      0]\n",
      " [     5      0      0      0      0      0      2      0      0]\n",
      " [   405      0      1      0      0      0      0  31542      0]\n",
      " [     6      0     17      0      0      0      0      1    405]]\n"
     ]
    }
   ],
   "source": [
    "from sklearn.neighbors import KNeighborsClassifier\n",
    "from sklearn.metrics import accuracy_score, classification_report, confusion_matrix\n",
    "\n",
    "# Khởi tạo mô hình KNN\n",
    "knn = KNeighborsClassifier(n_neighbors=5)  # Sử dụng 5 láng giềng gần nhất\n",
    "\n",
    "# Huấn luyện mô hình trên dữ liệu huấn luyện\n",
    "knn.fit(X_train, y_train)\n",
    "\n",
    "# Dự đoán kết quả trên tập kiểm tra\n",
    "y_pred = knn.predict(X_test)\n",
    "\n",
    "# Đánh giá mô hình\n",
    "accuracy = accuracy_score(y_test, y_pred)  # Tính độ chính xác\n",
    "print(f\"Accuracy: {accuracy * 100:.2f}%\")\n",
    "\n",
    "# In báo cáo phân loại chi tiết\n",
    "print(\"\\nClassification Report:\")\n",
    "print(classification_report(y_test, y_pred))\n",
    "\n",
    "# In ma trận nhầm lẫn\n",
    "print(\"\\nConfusion Matrix:\")\n",
    "print(confusion_matrix(y_test, y_pred))\n"
   ]
  },
  {
   "cell_type": "code",
   "execution_count": 12,
   "metadata": {},
   "outputs": [
    {
     "name": "stdout",
     "output_type": "stream",
     "text": [
      "Accuracy: 99.86%\n",
      "\n",
      "Classification Report:\n",
      "              precision    recall  f1-score   support\n",
      "\n",
      "           0       1.00      1.00      1.00    454643\n",
      "           1       0.96      0.73      0.83       373\n",
      "           2       1.00      1.00      1.00      2761\n",
      "           3       1.00      1.00      1.00     25593\n",
      "           4       1.00      1.00      1.00     50392\n",
      "           5       1.00      1.00      1.00         3\n",
      "           6       1.00      0.43      0.60         7\n",
      "           7       0.99      1.00      1.00     31948\n",
      "           8       0.99      0.26      0.41       429\n",
      "\n",
      "    accuracy                           1.00    566149\n",
      "   macro avg       0.99      0.82      0.87    566149\n",
      "weighted avg       1.00      1.00      1.00    566149\n",
      "\n",
      "\n",
      "Confusion Matrix:\n",
      "[[454421     11      0      4     10      0      0    197      0]\n",
      " [   101    272      0      0      0      0      0      0      0]\n",
      " [     2      0   2759      0      0      0      0      0      0]\n",
      " [    17      0      0  25576      0      0      0      0      0]\n",
      " [    14      0      0      0  50377      0      0      0      1]\n",
      " [     0      0      0      0      0      3      0      0      0]\n",
      " [     4      0      0      0      0      0      3      0      0]\n",
      " [   100      0      0      0      0      0      0  31848      0]\n",
      " [   317      0      0      0      0      0      0      1    111]]\n"
     ]
    }
   ],
   "source": [
    "from sklearn.ensemble import RandomForestClassifier\n",
    "\n",
    "rf = RandomForestClassifier(n_estimators=100, random_state=42)\n",
    "\n",
    "rf.fit(X_train, y_train)\n",
    "\n",
    "y_pred = rf.predict(X_test)\n",
    "\n",
    "accuracy = accuracy_score(y_test, y_pred)  \n",
    "print(f\"Accuracy: {accuracy * 100:.2f}%\")\n",
    "\n",
    "print(\"\\nClassification Report:\")\n",
    "print(classification_report(y_test, y_pred))\n",
    "\n",
    "print(\"\\nConfusion Matrix:\")\n",
    "print(confusion_matrix(y_test, y_pred))\n"
   ]
  },
  {
   "cell_type": "code",
   "execution_count": 13,
   "metadata": {},
   "outputs": [
    {
     "name": "stderr",
     "output_type": "stream",
     "text": [
      "d:\\Program File\\Conda_Env\\Tf_Gpu\\lib\\site-packages\\sklearn\\ensemble\\_weight_boosting.py:527: FutureWarning: The SAMME.R algorithm (the default) is deprecated and will be removed in 1.6. Use the SAMME algorithm to circumvent this warning.\n",
      "  warnings.warn(\n"
     ]
    },
    {
     "name": "stdout",
     "output_type": "stream",
     "text": [
      "Accuracy: 85.89%\n",
      "\n",
      "Classification Report:\n"
     ]
    },
    {
     "name": "stderr",
     "output_type": "stream",
     "text": [
      "d:\\Program File\\Conda_Env\\Tf_Gpu\\lib\\site-packages\\sklearn\\metrics\\_classification.py:1531: UndefinedMetricWarning: Precision is ill-defined and being set to 0.0 in labels with no predicted samples. Use `zero_division` parameter to control this behavior.\n",
      "  _warn_prf(average, modifier, f\"{metric.capitalize()} is\", len(result))\n"
     ]
    },
    {
     "name": "stdout",
     "output_type": "stream",
     "text": [
      "              precision    recall  f1-score   support\n",
      "\n",
      "           0       0.88      1.00      0.93    454643\n",
      "           1       0.00      0.00      0.00       373\n",
      "           2       0.00      0.00      0.00      2761\n",
      "           3       0.70      0.00      0.00     25593\n",
      "           4       0.66      0.64      0.65     50392\n",
      "           5       0.00      0.00      0.00         3\n",
      "           6       0.00      0.00      0.00         7\n",
      "           7       0.00      0.00      0.00     31948\n",
      "           8       0.00      0.00      0.00       429\n",
      "\n",
      "    accuracy                           0.86    566149\n",
      "   macro avg       0.25      0.18      0.18    566149\n",
      "weighted avg       0.80      0.86      0.81    566149\n",
      "\n",
      "\n",
      "Confusion Matrix:\n",
      "[[454067      0     10      0    566      0      0      0      0]\n",
      " [   373      0      0      0      0      0      0      0      0]\n",
      " [  2761      0      0      0      0      0      0      0      0]\n",
      " [  9409      0      0     56  16128      0      0      0      0]\n",
      " [ 18250      0      0     24  32118      0      0      0      0]\n",
      " [     3      0      0      0      0      0      0      0      0]\n",
      " [     7      0      0      0      0      0      0      0      0]\n",
      " [ 31839      0     91      0     18      0      0      0      0]\n",
      " [   429      0      0      0      0      0      0      0      0]]\n"
     ]
    },
    {
     "name": "stderr",
     "output_type": "stream",
     "text": [
      "d:\\Program File\\Conda_Env\\Tf_Gpu\\lib\\site-packages\\sklearn\\metrics\\_classification.py:1531: UndefinedMetricWarning: Precision is ill-defined and being set to 0.0 in labels with no predicted samples. Use `zero_division` parameter to control this behavior.\n",
      "  _warn_prf(average, modifier, f\"{metric.capitalize()} is\", len(result))\n",
      "d:\\Program File\\Conda_Env\\Tf_Gpu\\lib\\site-packages\\sklearn\\metrics\\_classification.py:1531: UndefinedMetricWarning: Precision is ill-defined and being set to 0.0 in labels with no predicted samples. Use `zero_division` parameter to control this behavior.\n",
      "  _warn_prf(average, modifier, f\"{metric.capitalize()} is\", len(result))\n"
     ]
    }
   ],
   "source": [
    "# using adaboost\n",
    "from sklearn.ensemble import AdaBoostClassifier\n",
    "\n",
    "adaboost = AdaBoostClassifier(n_estimators=10, random_state=42)\n",
    "\n",
    "adaboost.fit(X_train, y_train)\n",
    "\n",
    "y_pred = adaboost.predict(X_test)\n",
    "\n",
    "accuracy = accuracy_score(y_test, y_pred)\n",
    "print(f\"Accuracy: {accuracy * 100:.2f}%\")\n",
    "\n",
    "print(\"\\nClassification Report:\")\n",
    "print(classification_report(y_test, y_pred))\n",
    "\n",
    "print(\"\\nConfusion Matrix:\")\n",
    "print(confusion_matrix(y_test, y_pred))\n"
   ]
  },
  {
   "cell_type": "code",
   "execution_count": null,
   "metadata": {},
   "outputs": [
    {
     "name": "stdout",
     "output_type": "stream",
     "text": [
      "[LibSVM]"
     ]
    }
   ],
   "source": [
    "#using svm\n",
    "from sklearn.svm import SVC\n",
    "import tqdm\n",
    "svm = SVC(kernel='linear', random_state=42, verbose=True)\n",
    "\n",
    "svm.fit(X_train, y_train)\n",
    "\n",
    "y_pred = svm.predict(X_test)\n",
    "\n",
    "accuracy = accuracy_score(y_test, y_pred)\n",
    "print(f\"Accuracy: {accuracy * 100:.2f}%\")\n",
    "\n",
    "print(\"\\nClassification Report:\")\n",
    "print(classification_report(y_test, y_pred))\n",
    "\n",
    "print(\"\\nConfusion Matrix:\")\n",
    "print(confusion_matrix(y_test, y_pred))"
   ]
  },
  {
   "cell_type": "code",
   "execution_count": null,
   "metadata": {},
   "outputs": [],
   "source": []
  }
 ],
 "metadata": {
  "accelerator": "GPU",
  "colab": {
   "authorship_tag": "ABX9TyOilnfgYsRUnmK9Gef53a92",
   "gpuType": "T4",
   "provenance": []
  },
  "kernelspec": {
   "display_name": "Tf_Gpu",
   "language": "python",
   "name": "python3"
  },
  "language_info": {
   "codemirror_mode": {
    "name": "ipython",
    "version": 3
   },
   "file_extension": ".py",
   "mimetype": "text/x-python",
   "name": "python",
   "nbconvert_exporter": "python",
   "pygments_lexer": "ipython3",
   "version": "3.10.13"
  }
 },
 "nbformat": 4,
 "nbformat_minor": 0
}
